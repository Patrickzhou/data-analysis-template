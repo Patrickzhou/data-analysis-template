{
 "metadata": {
  "name": ""
 },
 "nbformat": 3,
 "nbformat_minor": 0,
 "worksheets": [
  {
   "cells": [
    {
     "cell_type": "markdown",
     "metadata": {
      "slideshow": {
       "slide_type": "skip"
      }
     },
     "source": [
      "##Team members responsible for this notebook:\n",
      "\n",
      "List the team members contributing to this notebook, along with their responsabilities:\n",
      "\n",
      "* team member 1 **Jiayuan Zhou**: team member 1 **responsabilities**\n",
      "* team member 2 **Haoyun Wu**: team member 2 **responsabilities**\n",
      "* team member 3 **Shorhon Gong** team member 3 **responsabilities**\n",
      "* team member 4 **Doe Gyi** team member 4 **responsabilities**\n"
     ]
    },
    {
     "cell_type": "markdown",
     "metadata": {
      "slideshow": {
       "slide_type": "slide"
      }
     },
     "source": [
      "##Introduction"
     ]
    },
    {
     "cell_type": "markdown",
     "metadata": {
      "slideshow": {
       "slide_type": "fragment"
      }
     },
     "source": [
      "Our interest in analyzing this particular dataset primarily stems from the proximity of the topic to our personal lives. Moreso than the other suggested topics, levels of genetic expression affects and regulates all aspects of our daily lives and we wish to expand on our understanding of this phenomenon. Furthermore, the field of bioinformatics and genetic analysis is booming, with the results of these analyses regularly appearing in the media. Ideally, analyzing our own simulated dataset can enhance our understanding and experience in this increasingly pouplar field. "
     ]
    },
    {
     "cell_type": "markdown",
     "metadata": {
      "slideshow": {
       "slide_type": "slide"
      }
     },
     "source": [
      "##About the data source"
     ]
    },
    {
     "cell_type": "markdown",
     "metadata": {
      "slideshow": {
       "slide_type": "fragment"
      }
     },
     "source": [
      "Our data consist 110 gene\u2019s expression on 50 people, among which 25 are old and 25 are young. \n",
      "The value of the gene expression has already been taken a log. In this sense, our cleaned data \n",
      "frame has 110 rows and 50 columns. \n"
     ]
    },
    {
     "cell_type": "markdown",
     "metadata": {
      "slideshow": {
       "slide_type": "fragment"
      }
     },
     "source": [
      "About the data source, the National Center for Biotechnology Information (NCBI) provides the \n",
      "Reference Sequence (RefSeq), used as the model from which our dataset was simulated. The \n",
      "provided gene expression levels derives from log_2 values of simulated muscle expression data. \n",
      "As shown in the data cleaning part, our data source is quite good originally."
     ]
    },
    {
     "cell_type": "markdown",
     "metadata": {
      "slideshow": {
       "slide_type": "slide"
      }
     },
     "source": [
      "## Major questions we want to solve"
     ]
    },
    {
     "cell_type": "markdown",
     "metadata": {
      "slideshow": {
       "slide_type": "fragment"
      }
     },
     "source": [
      "**1st:** Which genes\u2019 expressions are significantly affected by old and young? \n",
      "\n"
     ]
    },
    {
     "cell_type": "markdown",
     "metadata": {
      "slideshow": {
       "slide_type": "fragment"
      }
     },
     "source": [
      "**2nd:** Among these affected genes, how are they correlated? \n"
     ]
    },
    {
     "cell_type": "markdown",
     "metadata": {
      "slideshow": {
       "slide_type": "fragment"
      }
     },
     "source": [
      "**3rd:** What is the relation between olds\u2019 gene expressions and young\u2019s gene expressions? \n"
     ]
    },
    {
     "cell_type": "markdown",
     "metadata": {
      "slideshow": {
       "slide_type": "slide"
      }
     },
     "source": [
      "##Main challenges "
     ]
    },
    {
     "cell_type": "markdown",
     "metadata": {
      "slideshow": {
       "slide_type": "fragment"
      }
     },
     "source": [
      "As most of our members are not quite familiar with R packages, there are a lot of times we tried some complicated algorithms to accomplish some simple work which can be more easily done with the help of those packages."
     ]
    },
    {
     "cell_type": "markdown",
     "metadata": {
      "slideshow": {
       "slide_type": "fragment"
      }
     },
     "source": [
      "Since some of us have limited knowledge about biology, it's a little bit hard for us to determine what kind of method we should use to analyze this data at the beginning.\n"
     ]
    },
    {
     "cell_type": "markdown",
     "metadata": {
      "slideshow": {
       "slide_type": "slide"
      }
     },
     "source": [
      "##Our analysis of the data"
     ]
    },
    {
     "cell_type": "markdown",
     "metadata": {
      "slideshow": {
       "slide_type": "slide"
      }
     },
     "source": [
      "At the first place, after formatted our data frame, let us visualize our data with a box plot."
     ]
    },
    {
     "cell_type": "markdown",
     "metadata": {
      "slideshow": {
       "slide_type": "subslide"
      }
     },
     "source": [
      "<img src=\"files/visualization/picture1.png\">"
     ]
    },
    {
     "cell_type": "markdown",
     "metadata": {
      "slideshow": {
       "slide_type": "subslide"
      }
     },
     "source": [
      "The 50 boxes refer to 50 people where red represent old people, and blue represent. We can \n",
      "see that they are nice distributed with similar means. With this plot, the overall gene \n",
      "expressions seems to be the same. Now in the first question, we are interested in which genes \n",
      "are significantly affected by age. So we are now going to move from overall to each gene. For a \n",
      "certain gene, to check whether the 25 young data and the 25 old data are the same, we can \n",
      "perform a two sided t test. In order to check whether they are normally distributed, we may \n",
      "want to do a qqplot. \n"
     ]
    },
    {
     "cell_type": "markdown",
     "metadata": {
      "slideshow": {
       "slide_type": "fragment"
      }
     },
     "source": [
      "However there are 110 genes, so instead of qqplot for each gene, we are going to cluster them \n",
      "first and then find a representative for each cluster. \n",
      "\n"
     ]
    },
    {
     "cell_type": "markdown",
     "metadata": {
      "slideshow": {
       "slide_type": "fragment"
      }
     },
     "source": [
      "Before performing cluster let\u2019s get a PAC plot first: "
     ]
    },
    {
     "cell_type": "markdown",
     "metadata": {
      "slideshow": {
       "slide_type": "subslide"
      }
     },
     "source": [
      "<img src=\"files/visualization/picture12.png\">"
     ]
    },
    {
     "cell_type": "markdown",
     "metadata": {
      "slideshow": {
       "slide_type": "fragment"
      }
     },
     "source": [
      "From this plot we can see the division is quite clear, which means with variables old and young, \n",
      "it is reasonable to perform a cluster among those genes. \n",
      " \n"
     ]
    },
    {
     "cell_type": "markdown",
     "metadata": {
      "slideshow": {
       "slide_type": "fragment"
      }
     },
     "source": [
      "Furthermore we need to determine how many clusters we may need. Let\u2019s do a hierarchical \n",
      "cluster first:"
     ]
    },
    {
     "cell_type": "markdown",
     "metadata": {
      "slideshow": {
       "slide_type": "subslide"
      }
     },
     "source": [
      "<img src=\"files/visualization/picture2.png\">"
     ]
    },
    {
     "cell_type": "markdown",
     "metadata": {
      "slideshow": {
       "slide_type": "fragment"
      }
     },
     "source": [
      "We can see that there are four clear clusters. However it doesn\u2019t provide us with a \n",
      "representative for each cluster. There is a cluster algorithm called PAM cluster, which is similar \n",
      "to Kmeans but provide us with centers among our data points. Like Kmeans, it also require us to \n",
      "input the number of clusters we would like. Here we use a package called \u2018RCurl\u2019 to retrieve a \n",
      "method online: \n"
     ]
    },
    {
     "cell_type": "markdown",
     "metadata": {
      "slideshow": {
       "slide_type": "subslide"
      }
     },
     "source": [
      "<img src=\"files/visualization/picture11.png\">"
     ]
    },
    {
     "cell_type": "markdown",
     "metadata": {
      "slideshow": {
       "slide_type": "fragment"
      }
     },
     "source": [
      "We can see the splitting of the centers before 4 are quit obvious. For more reasoning behind, \n",
      "readers can refer to http://www.r-statistics.com/2010/06/clustergram-visualization-and-diagnostics-for-cluster-analysis-r-code/\n"
     ]
    },
    {
     "cell_type": "markdown",
     "metadata": {
      "slideshow": {
       "slide_type": "fragment"
      }
     },
     "source": [
      "Thus by this plot, we reassured that it is reasonable to make four clusters among our data. Using \n",
      "PAM we have these four following as representatives: \n"
     ]
    },
    {
     "cell_type": "markdown",
     "metadata": {
      "slideshow": {
       "slide_type": "fragment"
      }
     },
     "source": [
      "\"GI_42661568-S\"\n",
      "\"GI_42794621-S\" \n",
      "\"GI_20336322-I\" \n",
      "\"GI_12232386-S\""
     ]
    },
    {
     "cell_type": "markdown",
     "metadata": {
      "slideshow": {
       "slide_type": "subslide"
      }
     },
     "source": [
      "Now we can perform a qqplot of these four: \n"
     ]
    },
    {
     "cell_type": "markdown",
     "metadata": {
      "slideshow": {
       "slide_type": "subslide"
      }
     },
     "source": [
      "<img src=\"files/visualization/picture3.png\">"
     ]
    },
    {
     "cell_type": "markdown",
     "metadata": {
      "slideshow": {
       "slide_type": "fragment"
      }
     },
     "source": [
      "Notice that we only have 25 samples for each qqplot, based on this plot, it is reasonable to believe that they are normally distributed. Now we can perform our T test. Based on significant level 0.95, we have 12 genes selected where in the following table they are ranked by their t-values from high to low."
     ]
    },
    {
     "cell_type": "raw",
     "metadata": {
      "slideshow": {
       "slide_type": "fragment"
      }
     },
     "source": [
      "    Names   Means_O   Means_Y    TValue\n",
      "1  GI_42656372-S  7.240768  7.615690 10.888902\n",
      "2  GI_21361917-S  6.946918  7.579921  8.977336\n",
      "3  GI_42656649-S 10.230926  9.552327  8.313379\n",
      "4  GI_20336322-I 12.815926 12.196562  8.014539\n",
      "5  GI_34098967-S 12.397995 11.801853  7.881306\n",
      "6  GI_37550263-S  7.494689  7.162127  7.810696\n",
      "7  GI_37546214-S  9.375734  8.854402  7.416075\n",
      "8  GI_14196467-A  8.185565  8.618797  6.790437\n",
      "9  GI_16905512-S 12.192950 12.698371  5.991191\n",
      "10 GI_37546867-S 11.218218 11.630941  5.708543\n",
      "11 GI_42794621-S  6.530306  6.578422  2.803505\n",
      "12 GI_37546343-S  9.701467  9.593338  2.706027"
     ]
    },
    {
     "cell_type": "markdown",
     "metadata": {
      "slideshow": {
       "slide_type": "slide"
      }
     },
     "source": [
      "Now let\u2019s think about the rest of the genes, since they are not significantly affected by age, if we \n",
      "plot their old expression and young expression, the scatters should be close to the line y=x. And \n",
      "here follows the plot which does reassured our interpretation: \n"
     ]
    },
    {
     "cell_type": "markdown",
     "metadata": {
      "slideshow": {
       "slide_type": "subslide"
      }
     },
     "source": [
      "<img src=\"files/visualization/picture5.png\">"
     ]
    },
    {
     "cell_type": "markdown",
     "metadata": {
      "slideshow": {
       "slide_type": "fragment"
      }
     },
     "source": [
      "Now our interest moves to the twelve genes that are significantly affected by the age. To \n",
      "visualize the affect, let us do a ggplot for the two genes with the top two T values: \n",
      "\n"
     ]
    },
    {
     "cell_type": "markdown",
     "metadata": {
      "slideshow": {
       "slide_type": "subslide"
      }
     },
     "source": [
      "<img src=\"files/visualization/picture6.png\">"
     ]
    },
    {
     "cell_type": "markdown",
     "metadata": {
      "slideshow": {
       "slide_type": "fragment"
      }
     },
     "source": [
      "We can see that old and young values are separated. Among these genes, some may behave in a \n",
      "similar way when age changes, and if we have data for one gene among them, we may be able to predict the other genes. \n"
     ]
    },
    {
     "cell_type": "markdown",
     "metadata": {
      "slideshow": {
       "slide_type": "subslide"
      }
     },
     "source": [
      "R allows us to generate a correlation coefficient matrix. And with help of a package, we can visualize the correlations as the graph below: "
     ]
    },
    {
     "cell_type": "markdown",
     "metadata": {
      "slideshow": {
       "slide_type": "fragment"
      }
     },
     "source": [
      "<img src=\"files/visualization/picture10.png\">"
     ]
    },
    {
     "cell_type": "markdown",
     "metadata": {
      "slideshow": {
       "slide_type": "subslide"
      }
     },
     "source": [
      "Now let\u2019s select the top 4 highly correlated pairs and do a scatter plot : \n"
     ]
    },
    {
     "cell_type": "markdown",
     "metadata": {
      "slideshow": {
       "slide_type": "fragment"
      }
     },
     "source": [
      "<img src=\"files/visualization/picture13.png\">"
     ]
    },
    {
     "cell_type": "markdown",
     "metadata": {
      "slideshow": {
       "slide_type": "subslide"
      }
     },
     "source": [
      "We can see that the fourth one is already quite noisy. And the top three correlated correspond \n",
      "to 4th ~5th ,3rd ~5th , and 3rd ~4th which means the 3rd 4th and 5th are highly correlated, and here \n",
      "we can easily fit a line :"
     ]
    },
    {
     "cell_type": "markdown",
     "metadata": {
      "slideshow": {
       "slide_type": "fragment"
      }
     },
     "source": [
      "<img src=\"files/visualization/picture14.png\">"
     ]
    },
    {
     "cell_type": "markdown",
     "metadata": {
      "slideshow": {
       "slide_type": "subslide"
      }
     },
     "source": [
      "Now we can step back a little bit and view at the whole dataset. If we do a regression between \n",
      "old and age, we can see the fitness are quite nice:"
     ]
    },
    {
     "cell_type": "markdown",
     "metadata": {
      "slideshow": {
       "slide_type": "fragment"
      }
     },
     "source": [
      "<img src=\"files/visualization/picture15.png\">"
     ]
    },
    {
     "cell_type": "markdown",
     "metadata": {
      "slideshow": {
       "slide_type": "slide"
      }
     },
     "source": [
      "For conclusion, we have find that 12 genes are significantly affected by age, and among them 3 \n",
      "genes are highly correlated. And for the whole data set, we can fit a reasonable regression. If \n",
      "deleting the significantly affected ones, our new regression should close to y=x. \n"
     ]
    },
    {
     "cell_type": "markdown",
     "metadata": {
      "slideshow": {
       "slide_type": "slide"
      }
     },
     "source": [
      "**For further improvement: **\n"
     ]
    },
    {
     "cell_type": "markdown",
     "metadata": {
      "slideshow": {
       "slide_type": "fragment"
      }
     },
     "source": [
      "1: More samples should be collected \n"
     ]
    },
    {
     "cell_type": "markdown",
     "metadata": {
      "slideshow": {
       "slide_type": "fragment"
      }
     },
     "source": [
      "2: We need to getting more adept at data analysis techniques and the usage of R packages. \n"
     ]
    },
    {
     "cell_type": "markdown",
     "metadata": {
      "slideshow": {
       "slide_type": "fragment"
      }
     },
     "source": [
      "3: For more precise interpretation, instead of \u2018Old\u2019 and \u2018Young\u2019, one can take ages range every \n",
      "ten years for more information. "
     ]
    }
   ],
   "metadata": {}
  }
 ]
}