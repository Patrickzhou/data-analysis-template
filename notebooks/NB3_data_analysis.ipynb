{
 "metadata": {
  "name": ""
 },
 "nbformat": 3,
 "nbformat_minor": 0,
 "worksheets": [
  {
   "cells": [
    {
     "cell_type": "markdown",
     "metadata": {},
     "source": [
      "In this notebook, you'll perform the actual analysis of the data stored in the directory\n",
      "\n",
      "    ./data/cleaned\n",
      "\n",
      "If the data is not ready yet (e.g. the other members of the team in charge of cleaning the data are not done yet), you may want to simulate cleaned data in the form you want them to be in order to perform the analysis. This may also help you data cleaning team to come up with the rigth data frame. \n",
      "If you choose to do so, store your simulated data into the directory\n",
      "\n",
      "    ./data/simulated\n",
      "    \n",
      "Having performed analysis of simulated data may help you with the analysis of the actual data, since you will be able to notice deviations between the real and simulated data, which may be worth explaining and investigating further.\n",
      "\n",
      "The graphics your going to produce as a result of your analysis should be store in the directory:\n",
      "\n",
      "\n",
      "    ./visualization\n",
      "\n"
     ]
    },
    {
     "cell_type": "markdown",
     "metadata": {},
     "source": [
      "##Team members responsible for this notebook:\n",
      "\n",
      "List the team members contributing to this notebook, along with their responsabilities:\n",
      "\n",
      "* team member 1 **name**: team member 1 **responsabilities**\n",
      "* team member 2 **name**: team member 2 **responsabilities**\n",
      "* etc.\n",
      "\n",
      "I advise you to work at least in pairs for each project notebook, as you did for the homework assignments. Of course, all team members may participate to each notebook. "
     ]
    },
    {
     "cell_type": "code",
     "collapsed": false,
     "input": [
      "%load_ext rmagic"
     ],
     "language": "python",
     "metadata": {
      "slideshow": {
       "slide_type": "skip"
      }
     },
     "outputs": [],
     "prompt_number": 2
    },
    {
     "cell_type": "code",
     "collapsed": false,
     "input": [
      "%%R\n",
      "\n",
      "url=\"https://db.tt/ZtbfsizV\"\n",
      "\n",
      "raw_file ='../data/raw/rawbio.csv' \n",
      "download.file(url, raw_file, 'wget')\n",
      "\n",
      "#get data \n",
      "raw_data <- read.csv(raw_file,header = FALSE,sep = \",\")\n",
      "data <- data.frame(raw_data[2:nrow(raw_data), 2:ncol(raw_data)])\n",
      "\n",
      "#get names of rows & columns as characters\n",
      "x <- raw_data[,2:ncol(raw_data)]\n",
      "colnames <- unname(sapply(x[1,], as.character))\n",
      "y <- raw_data[2:nrow(raw_data),]              \n",
      "rownames <- unname(sapply(y[,1], as.character))\n",
      "\n",
      "#set the dataframe \n",
      "colnames(data) <- colnames\n",
      "rownames(data) <- rownames\n",
      "\n",
      "data_numeric = apply(data,2,as.numeric)\n",
      "\n",
      "#get old and young data separated\n",
      "old_data <- data[which(colnames(data)==\"Old\")]\n",
      "young_data <- data[which(colnames(data) == \"Young\")]\n",
      "\n",
      "temp = merge(old_data,young_data,by=0)\n",
      "cleaned = data.frame(temp[,2:ncol(temp)])\n",
      "rownames(cleaned) = temp$Row.name\n",
      "cleaned = cleaned[rownames,]\n",
      "cleaned_numeric = apply(cleaned,2,as.numeric)\n",
      "\n"
     ],
     "language": "python",
     "metadata": {
      "slideshow": {
       "slide_type": "skip"
      }
     },
     "outputs": [],
     "prompt_number": 12
    },
    {
     "cell_type": "code",
     "collapsed": false,
     "input": [
      "%%R -r 50 -w 800 -h 400\n",
      "\n",
      "boxplot(cleaned_numeric,col=c(rep('red',ncol(old_data)),rep('blue',ncol(young_data))))"
     ],
     "language": "python",
     "metadata": {
      "slideshow": {
       "slide_type": "slide"
      }
     },
     "outputs": [
      {
       "output_type": "stream",
       "stream": "stdout",
       "text": [
        "Error in boxplot(cleaned_numeric, col = c(rep(\"red\", ncol(old_data)),  : \n",
        "  object 'cleaned_numeric' not found\n"
       ]
      }
     ],
     "prompt_number": 4
    },
    {
     "cell_type": "code",
     "collapsed": false,
     "input": [
      "%%R\n",
      "#sudo apt-get update\n",
      "#sudo apt-get install libcurl4-openssl-dev \n",
      "install.packages('RCurl')"
     ],
     "language": "python",
     "metadata": {},
     "outputs": [],
     "prompt_number": "*"
    },
    {
     "cell_type": "code",
     "collapsed": false,
     "input": [
      "%%R -r 60 -h 600 -w 800\n",
      "\n",
      "require(RCurl)\n",
      "source(\"http://www.r-statistics.com/wp-content/uploads/2012/01/source_https.r.txt\") # Making sure we can source code from github\n",
      "source_https(\"https://raw.github.com/talgalili/R-code-snippets/master/clustergram.r\")\n",
      "\n",
      "clustergram(cleaned_numeric, k.range = 2:8, line.width = 0.004)"
     ],
     "language": "python",
     "metadata": {},
     "outputs": [],
     "prompt_number": "*"
    },
    {
     "cell_type": "code",
     "collapsed": false,
     "input": [
      "%%R\n",
      "\n",
      "install.packages(\"cluster\")"
     ],
     "language": "python",
     "metadata": {},
     "outputs": [],
     "prompt_number": "*"
    },
    {
     "cell_type": "code",
     "collapsed": false,
     "input": [
      "%%R -r 60 -h 600 -w 1200\n",
      "d=dist(cleaned,method='euclidean')\n",
      "fit = hclust(d,method='ward')\n",
      "plot(fit)"
     ],
     "language": "python",
     "metadata": {},
     "outputs": [],
     "prompt_number": "*"
    },
    {
     "cell_type": "code",
     "collapsed": false,
     "input": [
      "%%R\n",
      "require(cluster)\n",
      "pam_cl=pam(cleaned,k=5)\n",
      "represent = cleaned[rownames(pam_cl$medoids),]\n",
      "print(represent)"
     ],
     "language": "python",
     "metadata": {},
     "outputs": [],
     "prompt_number": "*"
    },
    {
     "cell_type": "code",
     "collapsed": false,
     "input": [
      "%%R\n",
      "#get oldmean and youngmean\n",
      "old_data <- apply(old_data, 2, as.numeric)\n",
      "old_mean <- rowMeans(old_data,na.rm = T, dims =1)\n",
      "young_data <- apply(young_data, 2, as.numeric)\n",
      "young_mean <- rowMeans(young_data,na.rm = T, dims =1)\n",
      "\n",
      "#calculate t value for difference\n",
      "ttest <- numeric(length(rownames))\n",
      "for(i in 1:length(rownames))\n",
      "{\n",
      "  as.numeric(ttest[i] <- t.test(old_data[i,], young_data[i,], alternative <- c(\"two.sided\"), mu <- 0 , paired <- F, var.equal <- F, conf.level = 0.95)$statistic)\n",
      "}\n",
      "\n",
      "#generating new table\n",
      "table <- data.frame(Names = rownames(data), Means_O = rowMeans(old_data), Means_Y= rowMeans(young_data))\n",
      "tnumb <- as.numeric(unlist(ttest))\n",
      "table$TValue <- abs(tnumb)\n",
      "\n"
     ],
     "language": "python",
     "metadata": {
      "slideshow": {
       "slide_type": "slide"
      }
     },
     "outputs": [],
     "prompt_number": "*"
    },
    {
     "cell_type": "code",
     "collapsed": false,
     "input": [
      "%%R\n",
      "#sort by TValue\n",
      "table_sorted <- table[order(table$TValue,decreasing = T),]\n",
      "#rownames(table_sorted) <- 1:dim(table_sorted)[1]\n",
      "\n",
      "#get top 10\n",
      "final_table <- table_sorted[1:10,]\n",
      "rownames(final_table) <- c(1:10)\n",
      "\n",
      "#get a dataframe where each mRNA as a variable\n",
      "data_numeric = apply(data, 1, as.numeric)\n",
      "\n",
      "#extract the names of top15\n",
      "need = as.character(final_table$Names)\n",
      "\n",
      "#extract the info of top15 from data_bumeric\n",
      "top_info = data_numeric[,need]\n",
      "\n"
     ],
     "language": "python",
     "metadata": {
      "slideshow": {
       "slide_type": "slide"
      }
     },
     "outputs": [],
     "prompt_number": "*"
    },
    {
     "cell_type": "code",
     "collapsed": false,
     "input": [
      "%%R\n",
      "#construct the squared correlation coefficients table(figure 5.5)\n",
      "sqcc_table <- cor(top_info)^2\n",
      "\n",
      "#extract the indexes of top4 squared correlation coefficients\n",
      "temp = sqcc_table\n",
      "i=1\n",
      "temp[lower.tri(temp, diag = T)] <- 0\n",
      "a = which(temp==max(temp),arr.ind=T)\n",
      "temp[which(temp==max(temp),arr.ind=T)] <- 0\n",
      "while(i < 4){\n",
      "  b = which(temp==max(temp),arr.ind=T)\n",
      "  a = rbind(a,b)\n",
      "  temp[which(temp==max(temp),arr.ind=T)] <- 0\n",
      "  i = i+1\n",
      "}\n",
      "\n",
      "a <- matrix(a,4,2)\n",
      "\n"
     ],
     "language": "python",
     "metadata": {
      "slideshow": {
       "slide_type": "slide"
      }
     },
     "outputs": [],
     "prompt_number": "*"
    },
    {
     "cell_type": "code",
     "collapsed": false,
     "input": [
      "%%R -r 60 -h 800 -w 1000\n",
      "#make scatter plots of top4 squred correlation coefficients pairs\n",
      "par(mfrow=c(2,2))\n",
      "i=1\n",
      "while(i <= 4){\n",
      "  p = need[a[i,1]] \n",
      "  q = need[a[i,2]]\n",
      "  plot(data_numeric[,p],data_numeric[,q],xlab=p, ylab=q)\n",
      "  i=i+1}"
     ],
     "language": "python",
     "metadata": {
      "slideshow": {
       "slide_type": "slide"
      }
     },
     "outputs": [],
     "prompt_number": "*"
    },
    {
     "cell_type": "code",
     "collapsed": false,
     "input": [
      "%%R\n",
      "\n",
      "install.packages('ggplot2', repos = \"http://cran.us.r-project.org\")"
     ],
     "language": "python",
     "metadata": {},
     "outputs": [
      {
       "metadata": {},
       "output_type": "display_data",
       "text": [
        "Installing package into \u2018/home/oski/R/i686-pc-linux-gnu-library/3.0\u2019\n",
        "(as \u2018lib\u2019 is unspecified)\n",
        "also installing the dependencies \u2018Rcpp\u2019, \u2018dichromat\u2019, \u2018munsell\u2019, \u2018plyr\u2019, \u2018digest\u2019, \u2018reshape2\u2019, \u2018scales\u2019\n",
        "\n",
        "trying URL 'http://cran.us.r-project.org/src/contrib/Rcpp_0.11.1.tar.gz'\n",
        "Content type 'application/x-gzip' length 2003515 bytes (1.9 Mb)\n",
        "opened URL\n",
        "==================================================\n",
        "downloaded 1.9 Mb\n",
        "\n",
        "trying URL 'http://cran.us.r-project.org/src/contrib/dichromat_2.0-0.tar.gz'\n",
        "Content type 'application/x-gzip' length 84320 bytes (82 Kb)\n",
        "opened URL\n",
        "==================================================\n",
        "downloaded 82 Kb\n",
        "\n",
        "trying URL 'http://cran.us.r-project.org/src/contrib/munsell_0.4.2.tar.gz'\n",
        "Content type 'application/x-gzip' length 91026 bytes (88 Kb)\n",
        "opened URL\n",
        "==================================================\n",
        "downloaded 88 Kb\n",
        "\n",
        "trying URL 'http://cran.us.r-project.org/src/contrib/plyr_1.8.1.tar.gz'\n",
        "Content type 'application/x-gzip' length 393233 bytes (384 Kb)\n",
        "opened URL\n",
        "==================================================\n",
        "downloaded 384 Kb\n",
        "\n",
        "trying URL 'http://cran.us.r-project.org/src/contrib/digest_0.6.4.tar.gz'\n",
        "Content type 'application/x-gzip' length 79309 bytes (77 Kb)\n",
        "opened URL\n",
        "==================================================\n",
        "downloaded 77 Kb\n",
        "\n",
        "trying URL 'http://cran.us.r-project.org/src/contrib/reshape2_1.4.tar.gz'\n",
        "Content type 'application/x-gzip' length 34121 bytes (33 Kb)\n",
        "opened URL\n",
        "==================================================\n",
        "downloaded 33 Kb\n",
        "\n",
        "trying URL 'http://cran.us.r-project.org/src/contrib/scales_0.2.4.tar.gz'\n",
        "Content type 'application/x-gzip' length 40093 bytes (39 Kb)\n",
        "opened URL\n",
        "==================================================\n",
        "downloaded 39 Kb\n",
        "\n",
        "trying URL 'http://cran.us.r-project.org/src/contrib/ggplot2_0.9.3.1.tar.gz'\n",
        "Content type 'application/x-gzip' length 2330942 bytes (2.2 Mb)\n",
        "opened URL\n",
        "==================================================\n",
        "downloaded 2.2 Mb\n",
        "\n",
        "\n",
        "The downloaded source packages are in\n",
        "\t\u2018/tmp/RtmpfkPoyE/downloaded_packages\u2019\n"
       ]
      },
      {
       "metadata": {},
       "output_type": "display_data",
       "text": [
        "Installing package into \u2018/home/oski/R/i686-pc-linux-gnu-library/3.0\u2019\n",
        "(as \u2018lib\u2019 is unspecified)\n",
        "trying URL 'http://cran.us.r-project.org/src/contrib/ggplot2_0.9.3.1.tar.gz'\n",
        "Content type 'application/x-gzip' length 2330942 bytes (2.2 Mb)\n",
        "opened URL\n",
        "==================================================\n",
        "downloaded 2.2 Mb\n",
        "\n",
        "\n",
        "The downloaded source packages are in\n",
        "\t\u2018/tmp/RtmpfkPoyE/downloaded_packages\u2019\n"
       ]
      }
     ],
     "prompt_number": 4
    },
    {
     "cell_type": "code",
     "collapsed": false,
     "input": [
      "%%R\n",
      "library(ggplot2)"
     ],
     "language": "python",
     "metadata": {},
     "outputs": [],
     "prompt_number": 5
    },
    {
     "cell_type": "code",
     "collapsed": false,
     "input": [
      "%%R\n",
      "comparison_charts <- function(i)\n",
      "{\n",
      "dataset <- data.frame(x=c(as.numeric(old_data[i,]), as.numeric(young_data[i,])), y=gl(2, 25, labels = c(\"Old\", \"Young\")))\n",
      "return(ggplot(dataset, aes(x = x, fill = y)) + geom_histogram(binwidth = 0.1))# + xlab(rownames[i]))\n",
      "}"
     ],
     "language": "python",
     "metadata": {},
     "outputs": [],
     "prompt_number": 72
    },
    {
     "cell_type": "code",
     "collapsed": false,
     "input": [
      "%%R -r 60 -w 1000 -h 800\n",
      "\n",
      "print(comparison_charts(34))"
     ],
     "language": "python",
     "metadata": {},
     "outputs": [
      {
       "metadata": {},
       "output_type": "display_data",
       "png": "[encoded data removed]"
      }
     ],
     "prompt_number": 77
    },
    {
     "cell_type": "code",
     "collapsed": false,
     "input": [
      "%%R -r 60 -w 1000 -h 800\n",
      "#print(dim(young_data))\n",
      "#print(length(gl(2, 25, labels = c(\"Old\", \"Young\"))))\n",
      "#print(head(as.vector(old_data[34,])))\n",
      "#print(dim(c(old_data[34,], young_data[34,])))\n",
      "#print(rownames[34])\n",
      "#print(comparison_charts(34))\n",
      "#i=34\n",
      "#xx <- c(as.numeric(old_data[i,]), as.numeric(young_data[i,]))\n",
      "#print(head(xx))\n",
      "\n",
      "#yy <- gl(2, 25, labels = c(\"Old\", \"Young\"))\n",
      "#print(length(yy))\n",
      "#dataset <- data.frame(x=xx, y=yy)\n",
      "#print(head(dataset))\n",
      "#print(ggplot(dataset, aes(x = x, fill = y)) + geom_histogram(binwidth = 0.1))\n",
      "\n",
      "print(comparison_charts(70))\n",
      "#comparison_charts(58)\n"
     ],
     "language": "python",
     "metadata": {},
     "outputs": [
      {
       "metadata": {},
       "output_type": "display_data",
       "png": "[encoded data removed]"
      }
     ],
     "prompt_number": 76
    },
    {
     "cell_type": "code",
     "collapsed": false,
     "input": [
      "%%R -r 60 -w 1000 -h 800\n",
      "\n",
      "print(comparison_charts(58))\n"
     ],
     "language": "python",
     "metadata": {},
     "outputs": [
      {
       "metadata": {},
       "output_type": "display_data",
       "png": "[encoded data removed]"
      }
     ],
     "prompt_number": 80
    },
    {
     "cell_type": "code",
     "collapsed": false,
     "input": [],
     "language": "python",
     "metadata": {},
     "outputs": [],
     "prompt_number": "*"
    },
    {
     "cell_type": "code",
     "collapsed": false,
     "input": [],
     "language": "python",
     "metadata": {},
     "outputs": []
    }
   ],
   "metadata": {}
  }
 ]
}