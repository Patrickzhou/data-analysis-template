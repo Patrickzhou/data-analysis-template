{
 "metadata": {
  "name": ""
 },
 "nbformat": 3,
 "nbformat_minor": 0,
 "worksheets": [
  {
   "cells": [
    {
     "cell_type": "markdown",
     "metadata": {
      "slideshow": {
       "slide_type": "notes"
      }
     },
     "source": [
      "##Team members responsible for this notebook:\n",
      "\n",
      "List the team members contributing to this notebook, along with their responsabilities:\n",
      "\n",
      "* team member 1 **name**: team member 1 **responsabilities**\n",
      "* team member 2 **name**: team member 2 **responsabilities**\n",
      "* etc.\n",
      "\n",
      "I advise you to work at least in pairs for each project notebook, as you did for the homework assignments. Of course, all team members may participate to each notebook. "
     ]
    },
    {
     "cell_type": "markdown",
     "metadata": {
      "slideshow": {
       "slide_type": "slide"
      }
     },
     "source": [
      "##Data cleaning now begins!"
     ]
    },
    {
     "cell_type": "code",
     "collapsed": false,
     "input": [
      "%load_ext rmagic\n"
     ],
     "language": "python",
     "metadata": {
      "slideshow": {
       "slide_type": "skip"
      }
     },
     "outputs": [],
     "prompt_number": 2
    },
    {
     "cell_type": "code",
     "collapsed": false,
     "input": [
      "%%R\n",
      "\n",
      "url=\"https://db.tt/ZtbfsizV\"\n",
      "\n",
      "raw_file ='../data/raw/rawbio.csv' \n",
      "download.file(url, raw_file, 'wget')\n",
      "\n",
      "#get data \n",
      "raw_data <- read.csv(raw_file,header = FALSE,sep = \",\")\n",
      "data <- data.frame(raw_data[2:nrow(raw_data), 2:ncol(raw_data)])\n",
      "\n",
      "#get names of rows & columns as characters\n",
      "x <- raw_data[,2:ncol(raw_data)]\n",
      "colnames <- unname(sapply(x[1,], as.character))\n",
      "y <- raw_data[2:nrow(raw_data),]              \n",
      "rownames <- unname(sapply(y[,1], as.character))\n",
      "\n",
      "#set the dataframe \n",
      "colnames(data) <- colnames\n",
      "rownames(data) <- rownames\n",
      "\n",
      "data_numeric = apply(data,2,as.numeric)"
     ],
     "language": "python",
     "metadata": {
      "slideshow": {
       "slide_type": "fragment"
      }
     },
     "outputs": [],
     "prompt_number": 3
    },
    {
     "cell_type": "markdown",
     "metadata": {
      "slideshow": {
       "slide_type": "slide"
      }
     },
     "source": [
      "##For further use let us seperate old and young from this data"
     ]
    },
    {
     "cell_type": "code",
     "collapsed": false,
     "input": [
      "\n",
      "%%R\n",
      "#get old and young data separated\n",
      "old_data <- data[which(colnames(data)==\"Old\")]\n",
      "young_data <- data[which(colnames(data) == \"Young\")]"
     ],
     "language": "python",
     "metadata": {
      "slideshow": {
       "slide_type": "fragment"
      }
     },
     "outputs": [],
     "prompt_number": 4
    },
    {
     "cell_type": "markdown",
     "metadata": {
      "slideshow": {
       "slide_type": "slide"
      }
     },
     "source": [
      "##Now let us generate a dataframe with old and young columns sorted together "
     ]
    },
    {
     "cell_type": "code",
     "collapsed": false,
     "input": [
      "%%R\n",
      "temp = merge(old_data,young_data,by=0)\n",
      "cleaned = data.frame(temp[,2:ncol(temp)])\n",
      "rownames(cleaned) = temp$Row.name\n",
      "cleaned = cleaned[rownames,]\n",
      "cleaned_numeric = apply(cleaned,2,as.numeric)\n"
     ],
     "language": "python",
     "metadata": {
      "slideshow": {
       "slide_type": "fragment"
      }
     },
     "outputs": [],
     "prompt_number": 5
    },
    {
     "cell_type": "code",
     "collapsed": false,
     "input": [
      "%%R\n",
      "write.csv(cleaned_numeric, '../data/cleaned/data.csv')\n",
      "write.csv(old_data, '../data/cleaned/olddata.csv')\n",
      "write.csv(young_data, '../data/cleaned/youngdata.csv')"
     ],
     "language": "python",
     "metadata": {
      "slideshow": {
       "slide_type": "fragment"
      }
     },
     "outputs": [],
     "prompt_number": 11
    }
   ],
   "metadata": {}
  }
 ]
}