{
 "metadata": {
  "name": ""
 },
 "nbformat": 3,
 "nbformat_minor": 0,
 "worksheets": [
  {
   "cells": [
    {
     "cell_type": "markdown",
     "metadata": {},
     "source": [
      "In this notebook, you'll sumarize your finding for the class presentation. \n",
      "\n",
      "\n",
      "The class presentation will use this notebook in slide mode, as I do during lecture time.\n",
      "\n",
      "You'll need to download the following [zip file](https://github.com/fperez/nb-slideshow-template/archive/master.zip), unzip it, and run the following notebook <code>install-support.ipynb</code> to install the slide capabilities.\n",
      "\n",
      "The notebook <code>notebook-slideshow-example.ipynb</code> will give you examples on how to use slides within the iPython notebook.  \n",
      "\n",
      "You should also write this notebook so that you can convert it nicely into a pdf document using the commands\n",
      "\n",
      "    ipython nbconvert NB4_report.pynb --to latex\n",
      "    pdflatex NB4_report.tex\n",
      "    \n",
      "See [here](http://ipython.org/ipython-doc/rel-1.0.0/interactive/nbconvert.html) for further references on how to do that. \n",
      "\n",
      "In this notebook, you'll\n",
      "\n",
      "* describe your problem as stated in the propectus \n",
      " \n",
      " \n",
      "* comment on your data sources, on their format, on the difficulties to get them\n",
      "\n",
      "\n",
      "* present the main challenge you encountered\n",
      "\n",
      "\n",
      "* present your finding in the form of expresive graphics\n",
      "\n",
      "Be sure to include an introduction section motivating your visualizations, with a description of the substantive context and why it is interesting.\n",
      "\n",
      "\n",
      "Cite the source of the data and any other references that you used in carrying out your project.\n"
     ]
    },
    {
     "cell_type": "markdown",
     "metadata": {},
     "source": [
      "##Team members responsible for this notebook:\n",
      "\n",
      "List the team members contributing to this notebook, along with their responsabilities:\n",
      "\n",
      "* team member 1 **name**: team member 1 **responsabilities**\n",
      "* team member 2 **name**: team member 2 **responsabilities**\n",
      "* etc.\n",
      "\n",
      "I advise you to work at least in pairs for each project notebook, as you did for the homework assignments. Of course, all team members may participate to each notebook. "
     ]
    },
    {
     "cell_type": "markdown",
     "metadata": {
      "slideshow": {
       "slide_type": "slide"
      }
     },
     "source": [
      "##Introduction"
     ]
    },
    {
     "cell_type": "code",
     "collapsed": false,
     "input": [],
     "language": "python",
     "metadata": {},
     "outputs": []
    },
    {
     "cell_type": "markdown",
     "metadata": {
      "slideshow": {
       "slide_type": "slide"
      }
     },
     "source": [
      "## Major questions we want to solve"
     ]
    },
    {
     "cell_type": "markdown",
     "metadata": {
      "slideshow": {
       "slide_type": "fragment"
      }
     },
     "source": [
      "**First:** Investigate the hypothesis that old tissues differ from young tissues in terms of gene expressions. Due to varying cellular requirements at every stage of the tissue life cycle, we hypothesize that certain genes may be \n",
      "underexpressed or silenced with miRNA.\n",
      "\n"
     ]
    },
    {
     "cell_type": "markdown",
     "metadata": {
      "slideshow": {
       "slide_type": "fragment"
      }
     },
     "source": [
      "**Second:** Look at overall changes in expression between both different tissue types and different gene location. "
     ]
    },
    {
     "cell_type": "markdown",
     "metadata": {
      "slideshow": {
       "slide_type": "slide"
      }
     },
     "source": [
      "##About the data source"
     ]
    },
    {
     "cell_type": "markdown",
     "metadata": {
      "slideshow": {
       "slide_type": "fragment"
      }
     },
     "source": [
      "The National Center for Biotechnology Information (NCBI) provides the Reference Sequence (RefSeq) from which the data is obtained.The simulated microRNA is based on log_2 values of real gene expression data. "
     ]
    },
    {
     "cell_type": "markdown",
     "metadata": {
      "slideshow": {
       "slide_type": "fragment"
      }
     },
     "source": [
      "As shown in the data cleaning part, our data source is quite good originally."
     ]
    },
    {
     "cell_type": "markdown",
     "metadata": {
      "slideshow": {
       "slide_type": "slide"
      }
     },
     "source": [
      "##Main challenges "
     ]
    },
    {
     "cell_type": "markdown",
     "metadata": {
      "slideshow": {
       "slide_type": "fragment"
      }
     },
     "source": [
      "As most of our members are not quite familiar with R packages, there are a lot of times we tried some complicated algorithms to accomplish some simple work which can be more easily done with the help of those packages."
     ]
    },
    {
     "cell_type": "code",
     "collapsed": false,
     "input": [],
     "language": "python",
     "metadata": {},
     "outputs": []
    },
    {
     "cell_type": "markdown",
     "metadata": {
      "slideshow": {
       "slide_type": "slide"
      }
     },
     "source": [
      "##Our findings about the data"
     ]
    },
    {
     "cell_type": "markdown",
     "metadata": {
      "slideshow": {
       "slide_type": "subslide"
      }
     },
     "source": [
      "<img src=\"files/visualization/picture1.png\">"
     ]
    },
    {
     "cell_type": "markdown",
     "metadata": {
      "slideshow": {
       "slide_type": "fragment"
      }
     },
     "source": [
      "This graph gives us a general picture about our data, which is essential for our further exploration on it. As is shown, the means for young and old data are quite close. Thus we further conduct a T-test to find those individual genes which have notable difference for young and old stages."
     ]
    },
    {
     "cell_type": "code",
     "collapsed": false,
     "input": [],
     "language": "python",
     "metadata": {},
     "outputs": []
    },
    {
     "cell_type": "code",
     "collapsed": false,
     "input": [],
     "language": "python",
     "metadata": {},
     "outputs": []
    },
    {
     "cell_type": "code",
     "collapsed": false,
     "input": [],
     "language": "python",
     "metadata": {},
     "outputs": []
    }
   ],
   "metadata": {}
  }
 ]
}